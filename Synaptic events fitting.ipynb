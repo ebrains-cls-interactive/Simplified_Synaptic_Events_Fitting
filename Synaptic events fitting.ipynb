{
 "cells": [
  {
   "cell_type": "markdown",
   "metadata": {},
   "source": [
    "## Using this notebook\n",
    " \n",
    "- You have to execute this notebook by running each cell consecutively.\n",
    "- To retain any changes made, you need to save the notebook. \n",
    "\n",
    "For detailed information about the notebook interface see _Help -> User Interface Tour_ in the menu, and the [Guidebook](https://lbologna.github.io/hbp-sp6-guidebook/getting_started/getting_started.html#working-with-collabs) for working with Collabs."
   ]
  },
  {
   "cell_type": "code",
   "execution_count": null,
   "metadata": {},
   "outputs": [],
   "source": [
    "import sef\n",
    "obj = sef.SEF()"
   ]
  },
  {
   "cell_type": "code",
   "execution_count": null,
   "metadata": {},
   "outputs": [],
   "source": [
    "from IPython.display import HTML\n",
    "\n",
    "HTML('''\n",
    "<button class=\"toggle_button\" onclick=\"toggleCode(this)\">Show Code</button>\n",
    "<script>\n",
    "    function toggleCode(button) {\n",
    "        boxes = button.closest(\".jp-Notebook\").querySelectorAll(\".jp-Cell-inputWrapper\");\n",
    "        if (boxes[0].style.display == \"none\") {\n",
    "            boxes.forEach(box => box.style.display = '');\n",
    "            button.innerHTML = \"Hide Code\";\n",
    "        } else {\n",
    "            boxes.forEach(box => box.style.display = 'none');\n",
    "            button.innerHTML = \"Show Code\";\n",
    "        }\n",
    "    }\n",
    "    document.querySelectorAll(\".jp-Cell-inputWrapper\").forEach(box => box.style.display = 'none');\n",
    "</script>\n",
    "''')"
   ]
  }
 ],
 "metadata": {
  "kernelspec": {
   "display_name": "Python 3",
   "language": "python",
   "name": "python3"
  },
  "language_info": {
   "codemirror_mode": {
    "name": "ipython",
    "version": 3
   },
   "file_extension": ".py",
   "mimetype": "text/x-python",
   "name": "python",
   "nbconvert_exporter": "python",
   "pygments_lexer": "ipython3",
   "version": "3.6.9"
  }
 },
 "nbformat": 4,
 "nbformat_minor": 4
}
