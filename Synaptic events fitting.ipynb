{
 "cells": [
  {
   "cell_type": "markdown",
   "metadata": {},
   "source": [
    "## Using this notebook\n",
    " \n",
    "- You have to execute this notebook by running each cell consecutively.\n",
    "- To retain any changes made, you need to save the notebook. \n",
    "\n",
    "For detailed information about the notebook interface see _Help -> User Interface Tour_ in the menu, and the [Guidebook](https://lbologna.github.io/hbp-sp6-guidebook/getting_started/getting_started.html#working-with-collabs) for working with Collabs."
   ]
  },
  {
   "cell_type": "code",
   "execution_count": 1,
   "metadata": {},
   "outputs": [
    {
     "data": {
      "application/vnd.jupyter.widget-view+json": {
       "model_id": "e9032e4bd14f4d7f8d7518c27a9b69b8",
       "version_major": 2,
       "version_minor": 0
      },
      "text/plain": [
       "Text(value='Select experimental data to download from CSCS storage', disabled=True, layout=Layout(width='80%')…"
      ]
     },
     "metadata": {},
     "output_type": "display_data"
    },
    {
     "data": {
      "application/vnd.jupyter.widget-view+json": {
       "model_id": "bb96dd84b8ca447f82166a9e77585f40",
       "version_major": 2,
       "version_minor": 0
      },
      "text/plain": [
       "SelectMultiple(layout=Layout(border='solid', width='100%'), options=('sIPSCs from juvenile (P21-30) C57BL/6J m…"
      ]
     },
     "metadata": {},
     "output_type": "display_data"
    },
    {
     "data": {
      "application/vnd.jupyter.widget-view+json": {
       "model_id": "64784ee4ec27457198235c4b443fd6de",
       "version_major": 2,
       "version_minor": 0
      },
      "text/plain": [
       "Button(description='Download data', layout=Layout(width='20%'), style=ButtonStyle())"
      ]
     },
     "metadata": {},
     "output_type": "display_data"
    },
    {
     "data": {
      "application/vnd.jupyter.widget-view+json": {
       "model_id": "21afe2348a954a69b7059bf7dbb2c0cd",
       "version_major": 2,
       "version_minor": 0
      },
      "text/plain": [
       "VBox(children=(Text(value='Select experimental data:', disabled=True, layout=Layout(display='none')), RadioBut…"
      ]
     },
     "metadata": {},
     "output_type": "display_data"
    },
    {
     "data": {
      "application/vnd.jupyter.widget-view+json": {
       "model_id": "a5d058d02a104bdea92de26c9db37451",
       "version_major": 2,
       "version_minor": 0
      },
      "text/plain": [
       "Output()"
      ]
     },
     "metadata": {},
     "output_type": "display_data"
    },
    {
     "data": {
      "application/vnd.jupyter.widget-view+json": {
       "model_id": "7329ea584ea74c7ea62e4e46f5d08356",
       "version_major": 2,
       "version_minor": 0
      },
      "text/plain": [
       "RadioButtons(description='Select mod file', disabled=True, options=('default', 'local'), style=DescriptionStyl…"
      ]
     },
     "metadata": {},
     "output_type": "display_data"
    },
    {
     "data": {
      "application/vnd.jupyter.widget-view+json": {
       "model_id": "c10d61382f4f465b85b4408f532fa9e6",
       "version_major": 2,
       "version_minor": 0
      },
      "text/plain": [
       "Text(value='ProbGABAAB_EMS_GEPH_g.mod', disabled=True)"
      ]
     },
     "metadata": {},
     "output_type": "display_data"
    },
    {
     "data": {
      "application/vnd.jupyter.widget-view+json": {
       "model_id": "49e5690c314642e7a2afe3f96685fe33",
       "version_major": 2,
       "version_minor": 0
      },
      "text/plain": [
       "HTML(value='\\n            <input name=\"mioTesto\" type=\"text\" value=\"Select local mod file and write config fil…"
      ]
     },
     "metadata": {},
     "output_type": "display_data"
    },
    {
     "data": {
      "application/vnd.jupyter.widget-view+json": {
       "model_id": "a2c881ff9ed34200af74264d1725d95a",
       "version_major": 2,
       "version_minor": 0
      },
      "text/plain": [
       "Tab(children=(Box(children=(VBox(children=(HTML(value='\\n            <input name=\"mioTesto\" type=\"text\" value=…"
      ]
     },
     "metadata": {},
     "output_type": "display_data"
    },
    {
     "data": {
      "application/vnd.jupyter.widget-view+json": {
       "model_id": "8dc2a8c1becd49c49265d7f0a352e080",
       "version_major": 2,
       "version_minor": 0
      },
      "text/plain": [
       "RadioButtons(description='Run on:', disabled=True, options=('NSG', 'Service Account - NSG'), value='NSG')"
      ]
     },
     "metadata": {},
     "output_type": "display_data"
    },
    {
     "data": {
      "application/vnd.jupyter.widget-view+json": {
       "model_id": "519e5f0c19cb4c11b1ee9b4d8c49cb4c",
       "version_major": 2,
       "version_minor": 0
      },
      "text/plain": [
       "RadioButtons(description='run', disabled=True, options=('all_traces', 'singletrace', 'demo'), value='all_trace…"
      ]
     },
     "metadata": {},
     "output_type": "display_data"
    },
    {
     "data": {
      "application/vnd.jupyter.widget-view+json": {
       "model_id": "28912e11ef454ad39dd6afce428efc27",
       "version_major": 2,
       "version_minor": 0
      },
      "text/plain": [
       "VBox(children=(Text(value='', description='Username:', layout=Layout(width='249px')), Password(description='Pa…"
      ]
     },
     "metadata": {},
     "output_type": "display_data"
    },
    {
     "data": {
      "application/vnd.jupyter.widget-view+json": {
       "model_id": "2dabfe96ac4b41af91df8dea99f9dc72",
       "version_major": 2,
       "version_minor": 0
      },
      "text/plain": [
       "Text(value='', description='Trace:', layout=Layout(display='none'))"
      ]
     },
     "metadata": {},
     "output_type": "display_data"
    },
    {
     "data": {
      "application/vnd.jupyter.widget-view+json": {
       "model_id": "65fb5a2e55754cefac04378fc3a1563a",
       "version_major": 2,
       "version_minor": 0
      },
      "text/plain": [
       "VBox(children=(Text(value='', description='Title:'), Text(value='24', description='N. of CPUs'), Text(value='2…"
      ]
     },
     "metadata": {},
     "output_type": "display_data"
    },
    {
     "data": {
      "application/vnd.jupyter.widget-view+json": {
       "model_id": "af1094425387452593df732f4001e849",
       "version_major": 2,
       "version_minor": 0
      },
      "text/plain": [
       "Text(value='', description='status', disabled=True, layout=Layout(display='none', width='70%'))"
      ]
     },
     "metadata": {},
     "output_type": "display_data"
    },
    {
     "data": {
      "application/vnd.jupyter.widget-view+json": {
       "model_id": "ff580d16493f4c7996bcbaaa216662fc",
       "version_major": 2,
       "version_minor": 0
      },
      "text/plain": [
       "Text(value='', description='status', disabled=True, layout=Layout(display='none', width='70%'))"
      ]
     },
     "metadata": {},
     "output_type": "display_data"
    },
    {
     "data": {
      "application/vnd.jupyter.widget-view+json": {
       "model_id": "98155b449d494439bf892db6047dc97d",
       "version_major": 2,
       "version_minor": 0
      },
      "text/plain": [
       "HBox(children=(Button(description='Run NSG simulation', disabled=True, layout=Layout(display='', width='25%'),…"
      ]
     },
     "metadata": {},
     "output_type": "display_data"
    },
    {
     "data": {
      "application/vnd.jupyter.widget-view+json": {
       "model_id": "8dbbdd75699e4ab68354ba8dc02f7e3b",
       "version_major": 2,
       "version_minor": 0
      },
      "text/plain": [
       "HBox(children=(Button(description='Run NSG simulation', layout=Layout(display='none', width='25%'), style=Butt…"
      ]
     },
     "metadata": {},
     "output_type": "display_data"
    },
    {
     "data": {
      "application/vnd.jupyter.widget-view+json": {
       "model_id": "3ce8430736df4ef1997469590b155ea5",
       "version_major": 2,
       "version_minor": 0
      },
      "text/plain": [
       "Image(value=b'\\x89PNG\\r\\n\\x1a\\n\\x00\\x00\\x00\\rIHDR\\x00\\x00\\x03\\xfd\\x00\\x00\\x021\\x08\\x06\\x00\\x00\\x00\\x1fb\\xd8\\x1…"
      ]
     },
     "metadata": {},
     "output_type": "display_data"
    }
   ],
   "source": [
    "import sef\n",
    "obj = sef.SEF()"
   ]
  },
  {
   "cell_type": "code",
   "execution_count": 2,
   "metadata": {},
   "outputs": [
    {
     "data": {
      "text/html": [
       "\n",
       "<button class=\"toggle_button\" onclick=\"toggleCode(this)\">Show Code</button>\n",
       "<script>\n",
       "    function toggleCode(button) {\n",
       "        boxes = button.closest(\".jp-Notebook\").querySelectorAll(\".jp-Cell-inputWrapper\");\n",
       "        if (boxes[0].style.display == \"none\") {\n",
       "            boxes.forEach(box => box.style.display = '');\n",
       "            button.innerHTML = \"Hide Code\";\n",
       "        } else {\n",
       "            boxes.forEach(box => box.style.display = 'none');\n",
       "            button.innerHTML = \"Show Code\";\n",
       "        }\n",
       "    }\n",
       "    document.querySelectorAll(\".jp-Cell-inputWrapper\").forEach(box => box.style.display = 'none');\n",
       "</script>\n"
      ],
      "text/plain": [
       "<IPython.core.display.HTML object>"
      ]
     },
     "execution_count": 2,
     "metadata": {},
     "output_type": "execute_result"
    }
   ],
   "source": [
    "from IPython.display import HTML\n",
    "\n",
    "HTML('''\n",
    "<button class=\"toggle_button\" onclick=\"toggleCode(this)\">Show Code</button>\n",
    "<script>\n",
    "    function toggleCode(button) {\n",
    "        boxes = button.closest(\".jp-Notebook\").querySelectorAll(\".jp-Cell-inputWrapper\");\n",
    "        if (boxes[0].style.display == \"none\") {\n",
    "            boxes.forEach(box => box.style.display = '');\n",
    "            button.innerHTML = \"Hide Code\";\n",
    "        } else {\n",
    "            boxes.forEach(box => box.style.display = 'none');\n",
    "            button.innerHTML = \"Show Code\";\n",
    "        }\n",
    "    }\n",
    "    document.querySelectorAll(\".jp-Cell-inputWrapper\").forEach(box => box.style.display = 'none');\n",
    "</script>\n",
    "''')"
   ]
  }
 ],
 "metadata": {
  "kernelspec": {
   "display_name": "Python 3",
   "language": "python",
   "name": "python3"
  },
  "language_info": {
   "codemirror_mode": {
    "name": "ipython",
    "version": 3
   },
   "file_extension": ".py",
   "mimetype": "text/x-python",
   "name": "python",
   "nbconvert_exporter": "python",
   "pygments_lexer": "ipython3",
   "version": "3.6.9"
  }
 },
 "nbformat": 4,
 "nbformat_minor": 4
}
